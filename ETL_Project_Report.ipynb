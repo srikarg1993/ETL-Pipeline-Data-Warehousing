{
 "cells": [
  {
   "cell_type": "markdown",
   "id": "b97a9577",
   "metadata": {},
   "source": [
    "### ETL Project - Group 7\n",
    "\n",
    "#### Srikar Gunisetty - Hui (Ines) Ye - Mouli Krishna Palacharla"
   ]
  },
  {
   "cell_type": "code",
   "execution_count": 1,
   "id": "27fa84cf",
   "metadata": {},
   "outputs": [],
   "source": [
    "import snowflake.connector as sf"
   ]
  },
  {
   "cell_type": "code",
   "execution_count": 2,
   "id": "dc08622e",
   "metadata": {},
   "outputs": [],
   "source": [
    "### User Variable declaration ###\n",
    "sfAccount = \"IWA31950\"\n",
    "sfUser = \"sgunisetty\"\n",
    "sfPswd = \"Snow1993Flake***\"\n",
    "sfDbName = \"ASSIGNMENT_DB\"\n",
    "sfSchemaName = \"ASSIGNMENT_SCHEMA\"\n",
    "\n",
    "#Stage Names\n",
    "sfCsvStageName = \"ASSIGNMENT_CSV_STAGE\"\n",
    "sfXmlStageName = \"ASSIGNMENT_XML_STAGE\"\n",
    "sfPsqlStageName = \"ASSIGNMENT_PSQL_STAGE\"\n",
    "sfUSzipStageName = \"ASSIGNMENT_USZIP_STAGE\"\n",
    "\n",
    "#Warehouse Name\n",
    "sfWareHouseName = \"ASSIGNMENT_WH\"\n",
    "sfCsvFileFormatName = \"ASSIGNMENT_CSV_FF\"\n",
    "sfXmlFileFormatName = \"ASSIGNMENT_XML_FF\"\n",
    "\n",
    "#RelativePaths\n",
    "sfCsvDataRelativePath = \"./Monthly_PO_Data\"\n",
    "sfXmlDataRelativePath = \"./XML_Data\"\n",
    "sfPsqlDataRelativePath = \"./PSQL_Data\"\n",
    "sfUSzipDataRelativePath = \"./US_zipcode_data\"\n",
    "\n",
    "#Table Names\n",
    "sfPurchasesTableName = \"purchases_data\"\n",
    "sfSupplierInvoicesTableName = \"supplier_invoices\"\n",
    "sfSupplierCaseTableName = 'supplier_case'\n",
    "sfuszipcodeTableName = 'us_zip'\n",
    "\n",
    "### Connection Variable Initialization ###\n",
    "sfConnection = None\n",
    "sfWareHouseSize = 'X-Small'\n",
    "sfWhautoSuspendDuration = 300\n",
    "sfWhShouldAutoResume = True"
   ]
  },
  {
   "cell_type": "code",
   "execution_count": 3,
   "id": "75bf9a54",
   "metadata": {},
   "outputs": [],
   "source": [
    "# Function to establish connection to SnowFlake using user credentials\n",
    "\n",
    "def connectToSf(account, userName, password):\n",
    "    try:\n",
    "        global sfConnection\n",
    "        sfConnection = sf.Connect(account=account, user=userName, password=password)\n",
    "        sfq = sfConnection.cursor()\n",
    "        sfq.execute(\"Select current_version()\")\n",
    "        sfResults = sfq.fetchall()\n",
    "        print(\"Connected to Snowflake Version: \" + sfResults[0][0])\n",
    "        sfq.close()\n",
    "    except:\n",
    "        print(\"Connection to snowflake failed. Please check the credentials before retrying!\")"
   ]
  },
  {
   "cell_type": "code",
   "execution_count": 4,
   "id": "bcdc28d6",
   "metadata": {},
   "outputs": [],
   "source": [
    "# Function to create a Database and Schema in SnowFlake\n",
    "\n",
    "def createDbAndSchema(dbName, schemaName):\n",
    "    sfq = sfConnection.cursor()\n",
    "    sfq.execute(\"CREATE DATABASE IF NOT EXISTS {0}\".format(dbName))\n",
    "    sfq.execute(\"USE DATABASE {0}\".format(dbName))\n",
    "    sfq.execute(\"CREATE SCHEMA IF NOT EXISTS {0}\".format(schemaName))\n",
    "    sfq.execute(\"USE SCHEMA {0}\".format(schemaName))\n",
    "    sfq.close()\n",
    "    print(\"Database and Schema with {0} and {1} have been created\".format(dbName, schemaName))"
   ]
  },
  {
   "cell_type": "code",
   "execution_count": 5,
   "id": "ac71f9ba",
   "metadata": {},
   "outputs": [],
   "source": [
    "# Function to create a stage in SnowFlake\n",
    "\n",
    "def createStage(stageName):\n",
    "    sfq = sfConnection.cursor()\n",
    "    sfq.execute(\"CREATE STAGE IF NOT EXISTS {0}\".format(stageName))\n",
    "    sfq.close()\n",
    "    print(\"Stage with name {0} has been created\".format(stageName))"
   ]
  },
  {
   "cell_type": "code",
   "execution_count": 6,
   "id": "16e59d51",
   "metadata": {},
   "outputs": [],
   "source": [
    "# Function to create Warehouse\n",
    "\n",
    "def createWareHouse(wareHouseName, wareHouseSize, autoSuspendDuration, shouldAutoResume):\n",
    "    sfq = sfConnection.cursor()\n",
    "    sfq.execute(\"CREATE WAREHOUSE IF NOT EXISTS {0} WAREHOUSE_SIZE = '{1}' AUTO_SUSPEND = {2} AUTO_RESUME = {3}\".format(wareHouseName, wareHouseSize,autoSuspendDuration,shouldAutoResume))\n",
    "    sfq.execute(\"USE WAREHOUSE {0}\".format(wareHouseName))\n",
    "    sfq.close()\n",
    "    print(\"Created a warehouse with name {0}\".format(wareHouseName))"
   ]
  },
  {
   "cell_type": "code",
   "execution_count": 7,
   "id": "bb75180a",
   "metadata": {},
   "outputs": [],
   "source": [
    "# Function to create file formats for transforming data from csv/xml to SnowFlake Tables\n",
    "\n",
    "def createFileFormat(ffName, ffType):\n",
    "    sfq = sfConnection.cursor()\n",
    "    if(ffType == \"CSV\"):\n",
    "        sfq.execute(\"CREATE FILE FORMAT IF NOT EXISTS {0} TYPE = CSV FIELD_DELIMITER = ',' SKIP_HEADER = 1 FIELD_OPTIONALLY_ENCLOSED_BY = '\\042'\".format(ffName))\n",
    "    else:\n",
    "        sfq.execute(\"CREATE FILE FORMAT IF NOT EXISTS {0} TYPE = XML STRIP_OUTER_ELEMENT = TRUE\".format(ffName))\n",
    "    sfq.close()"
   ]
  },
  {
   "cell_type": "code",
   "execution_count": 8,
   "id": "5ec98bbc",
   "metadata": {},
   "outputs": [],
   "source": [
    "# Function to upload local files to respective stages\n",
    "\n",
    "def uploadLocalFiles(targetLocation, targetStage):\n",
    "    from os import listdir\n",
    "    from os.path import isfile, join, abspath\n",
    "    filesList = [f for f in listdir(targetLocation) if isfile(join(targetLocation, f))]\n",
    "    sfq = sfConnection.cursor()\n",
    "    for file in filesList:\n",
    "        currPath = join(targetLocation, file)\n",
    "        f = \"file://\" + abspath(currPath)\n",
    "        sfq.execute(\"PUT '{0}' @{1} OVERWRITE = TRUE\".format(f, targetStage))\n",
    "    sfq.close()\n",
    "    print(\"Uploaded {0} files to {1} stage\".format(str(len(filesList)),targetStage))"
   ]
  },
  {
   "cell_type": "code",
   "execution_count": 9,
   "id": "7d125a37",
   "metadata": {},
   "outputs": [],
   "source": [
    "# Debugging tool to verify contents of the stage\n",
    "\n",
    "def listFilesInStage(stageName):\n",
    "    sfq = sfConnection.cursor()\n",
    "    sfq.execute(\"LIST @{0}\".format(stageName))\n",
    "    results = sfq.fetchall()\n",
    "    sfq.close()\n",
    "    print(results)"
   ]
  },
  {
   "cell_type": "code",
   "execution_count": 10,
   "id": "157d92f9",
   "metadata": {},
   "outputs": [],
   "source": [
    "# Function to drop existing database and warehouse\n",
    "\n",
    "def dropDBAndWh(dbName, whName):\n",
    "    sfq = sfConnection.cursor()\n",
    "    sfq.execute(\"DROP DATABASE IF EXISTS {0}\".format(dbName))\n",
    "    sfq.execute(\"DROP WAREHOUSE IF EXISTS {0}\".format(whName))\n",
    "    sfq.close()\n",
    "    print(\"Dropped {0} Database and {1} warehouse if exists already\".format(dbName, whName))"
   ]
  },
  {
   "cell_type": "code",
   "execution_count": 11,
   "id": "c21f0df9",
   "metadata": {},
   "outputs": [],
   "source": [
    "#Function to create a new empty table in SnowFlake\n",
    "\n",
    "def createTable(tableName, query):\n",
    "    sfq = sfConnection.cursor()\n",
    "    sfq.execute(query)\n",
    "    sfq.close()\n",
    "    print(\"Created a new table with name {0}\".format(tableName))"
   ]
  },
  {
   "cell_type": "code",
   "execution_count": 12,
   "id": "9f59df6e",
   "metadata": {},
   "outputs": [],
   "source": [
    "# Function to copy contents of CSV files to the empty tables in SnowFlake\n",
    "\n",
    "def copyCsvContentsToTable(tableName, stageName, ffName):\n",
    "    sfq = sfConnection.cursor()\n",
    "    query = \"copy into {0} from (select t.$1, t.$2, t.$14, t.$17, t.$19 from @{1} t) file_format = {2};\".format(tableName, stageName, ffName)\n",
    "    sfq.execute(query)\n",
    "    sfq.close()\n",
    "    print(\"Copied the contents of csv to the table {0}\".format(tableName))"
   ]
  },
  {
   "cell_type": "code",
   "execution_count": 13,
   "id": "47e7e72b",
   "metadata": {},
   "outputs": [],
   "source": [
    "# Function to copy contents of CSV files to the empty tables in SnowFlake\n",
    "\n",
    "def copyCsvContentsToTable_2(tableName, stageName, ffName):\n",
    "    sfq = sfConnection.cursor()\n",
    "    query = \"copy into {0} from (select t.$1, t.$2, t.$3, t.$25 from @{1} t) file_format = {2};\".format(tableName, stageName, ffName)\n",
    "    sfq.execute(query)\n",
    "    sfq.close()\n",
    "    print(\"Copied the contents of csv to the table {0}\".format(tableName))"
   ]
  },
  {
   "cell_type": "code",
   "execution_count": 14,
   "id": "b5e80c42",
   "metadata": {},
   "outputs": [],
   "source": [
    "# Function to copy contents of CSV files to the empty tables in SnowFlake\n",
    "\n",
    "def copyCsvContentsToTable_3(tableName, stageName, ffName):\n",
    "    sfq = sfConnection.cursor()\n",
    "    query = \"copy into {0} from (select t.$1, t.$2, t.$3 from @{1} t) file_format = {2};\".format(tableName, stageName, ffName)\n",
    "    sfq.execute(query)\n",
    "    sfq.close()\n",
    "    print(\"Copied the contents of csv to the table {0}\".format(tableName))"
   ]
  },
  {
   "cell_type": "code",
   "execution_count": 15,
   "id": "7434623a",
   "metadata": {},
   "outputs": [],
   "source": [
    "# Function to create an empty table in SnowFlake\n",
    "\n",
    "def createVariantTable(tableName):\n",
    "    sfq = sfConnection.cursor()\n",
    "    query = \"Create or replace table {0} ( src_data variant)\".format(tableName)\n",
    "    sfq.execute(query)\n",
    "    sfq.close()\n",
    "    print(\"Created a variant table with name {0}\".format(tableName))"
   ]
  },
  {
   "cell_type": "code",
   "execution_count": 16,
   "id": "7682ef7c",
   "metadata": {},
   "outputs": [],
   "source": [
    "# Function to copy contents of XML files to the empty tables in SnowFlake\n",
    "\n",
    "def copyXmlContentsToTable(tableName, stageName, ffName):\n",
    "    sfq = sfConnection.cursor()\n",
    "    query = \"copy into {0} from @{1} file_format = {2}\".format(tableName, stageName, ffName)\n",
    "    sfq.execute(query)\n",
    "    sfq.close()\n",
    "    print(\"Copied Xml contents to temporary table\")"
   ]
  },
  {
   "cell_type": "code",
   "execution_count": 17,
   "id": "2ed6f29c",
   "metadata": {},
   "outputs": [],
   "source": [
    "# Fnction to execute any query\n",
    "\n",
    "def executeAnyQuery(query):\n",
    "    sfq = sfConnection.cursor()\n",
    "    sfq.execute(query)\n",
    "    sfq.close()"
   ]
  },
  {
   "cell_type": "code",
   "execution_count": 18,
   "id": "b9a16965",
   "metadata": {},
   "outputs": [
    {
     "name": "stdout",
     "output_type": "stream",
     "text": [
      "Connected to Snowflake Version: 6.3.3\n"
     ]
    }
   ],
   "source": [
    "# Connecting to SF\n",
    "connectToSf(sfAccount, sfUser, sfPswd)"
   ]
  },
  {
   "cell_type": "code",
   "execution_count": 19,
   "id": "b98ed85f",
   "metadata": {},
   "outputs": [
    {
     "name": "stdout",
     "output_type": "stream",
     "text": [
      "Dropped ASSIGNMENT_DB Database and ASSIGNMENT_WH warehouse if exists already\n"
     ]
    }
   ],
   "source": [
    "# Dropping existing database and warehouse\n",
    "dropDBAndWh(sfDbName, sfWareHouseName)"
   ]
  },
  {
   "cell_type": "code",
   "execution_count": 20,
   "id": "79b8aa76",
   "metadata": {},
   "outputs": [
    {
     "name": "stdout",
     "output_type": "stream",
     "text": [
      "Database and Schema with ASSIGNMENT_DB and ASSIGNMENT_SCHEMA have been created\n"
     ]
    }
   ],
   "source": [
    "# Creating DATABASE and SCHEMA in SF\n",
    "createDbAndSchema(sfDbName, sfSchemaName)"
   ]
  },
  {
   "cell_type": "code",
   "execution_count": 21,
   "id": "4a815ac3",
   "metadata": {},
   "outputs": [
    {
     "name": "stdout",
     "output_type": "stream",
     "text": [
      "Stage with name ASSIGNMENT_CSV_STAGE has been created\n",
      "Stage with name ASSIGNMENT_XML_STAGE has been created\n",
      "Stage with name ASSIGNMENT_PSQL_STAGE has been created\n",
      "Stage with name ASSIGNMENT_USZIP_STAGE has been created\n"
     ]
    }
   ],
   "source": [
    "# Creating a stage to upload local data to SF\n",
    "createStage(sfCsvStageName)\n",
    "createStage(sfXmlStageName)\n",
    "createStage(sfPsqlStageName)\n",
    "createStage(sfUSzipStageName)"
   ]
  },
  {
   "cell_type": "code",
   "execution_count": 22,
   "id": "7b6f4bf8",
   "metadata": {},
   "outputs": [
    {
     "name": "stdout",
     "output_type": "stream",
     "text": [
      "Created a warehouse with name ASSIGNMENT_WH\n"
     ]
    }
   ],
   "source": [
    "# Creating a warehouse to load the files\n",
    "createWareHouse(sfWareHouseName, sfWareHouseSize, sfWhautoSuspendDuration, sfWhShouldAutoResume)"
   ]
  },
  {
   "cell_type": "code",
   "execution_count": 23,
   "id": "948599ca",
   "metadata": {},
   "outputs": [],
   "source": [
    "# Creating File format for transforming data from csv to Sf tables\n",
    "createFileFormat(sfCsvFileFormatName, \"CSV\")\n",
    "createFileFormat(sfXmlFileFormatName, \"XML\")"
   ]
  },
  {
   "cell_type": "code",
   "execution_count": 24,
   "id": "fbfc082c",
   "metadata": {},
   "outputs": [
    {
     "name": "stdout",
     "output_type": "stream",
     "text": [
      "Uploaded 41 files to ASSIGNMENT_CSV_STAGE stage\n",
      "Uploaded 1 files to ASSIGNMENT_XML_STAGE stage\n",
      "Uploaded 1 files to ASSIGNMENT_PSQL_STAGE stage\n",
      "Uploaded 1 files to ASSIGNMENT_USZIP_STAGE stage\n"
     ]
    }
   ],
   "source": [
    "# Uploading local files to the stage\n",
    "uploadLocalFiles(sfCsvDataRelativePath, sfCsvStageName)\n",
    "uploadLocalFiles(sfXmlDataRelativePath, sfXmlStageName)\n",
    "uploadLocalFiles(sfPsqlDataRelativePath, sfPsqlStageName)\n",
    "uploadLocalFiles(sfUSzipDataRelativePath, sfUSzipStageName)"
   ]
  },
  {
   "cell_type": "code",
   "execution_count": 25,
   "id": "50975aa7",
   "metadata": {},
   "outputs": [],
   "source": [
    "# View contents of the stage\n",
    "# listFilesInStage(sfCsvStageName)"
   ]
  },
  {
   "cell_type": "code",
   "execution_count": 26,
   "id": "298ac1e3",
   "metadata": {},
   "outputs": [
    {
     "name": "stdout",
     "output_type": "stream",
     "text": [
      "Created a new table with name purchases_data\n",
      "Created a variant table with name temporary_table\n"
     ]
    }
   ],
   "source": [
    "# Create a table \n",
    "query = r\"\"\"create or replace table {0} (\n",
    "        PurchaseOrderID INTEGER,\n",
    "        SupplierID INTEGER,\n",
    "        StockItemID INTEGER,\n",
    "        ReceivedOuters INTEGER,\n",
    "        ExpectedUnitPricePerOuter DOUBLE\n",
    "    );\"\"\".format(sfPurchasesTableName)\n",
    "createTable(sfPurchasesTableName, query)\n",
    "\n",
    "# Temporary Table to load XML Files\n",
    "createVariantTable(\"temporary_table\")"
   ]
  },
  {
   "cell_type": "code",
   "execution_count": 27,
   "id": "d16b4591",
   "metadata": {},
   "outputs": [
    {
     "name": "stdout",
     "output_type": "stream",
     "text": [
      "Created a new table with name supplier_case\n"
     ]
    }
   ],
   "source": [
    "# Create a table for Supplier Case\n",
    "query = r\"\"\"create or replace table {0} (\n",
    "        SupplierID INTEGER,\n",
    "        suppliername STRING,\n",
    "        suppliercategoryid INTEGER,\n",
    "        postalpostalcode INTEGER\n",
    "    );\"\"\".format(sfSupplierCaseTableName)\n",
    "createTable(sfSupplierCaseTableName, query)"
   ]
  },
  {
   "cell_type": "code",
   "execution_count": 28,
   "id": "f8b04012",
   "metadata": {},
   "outputs": [
    {
     "name": "stdout",
     "output_type": "stream",
     "text": [
      "Created a new table with name us_zip\n"
     ]
    }
   ],
   "source": [
    "# Creating a new table with US zipcodes and their respective latitudes and longitudes\n",
    "# Source of data =>\n",
    "# https://gist.github.com/abatko/ee7b24db82a6f50cfce02afafa1dfd1e\n",
    "\n",
    "# Create a table for Supplier Case\n",
    "query = r\"\"\"create or replace table {0} (\n",
    "        zip INTEGER,\n",
    "        lat DOUBLE,\n",
    "        long DOUBLE\n",
    "    );\"\"\".format(sfuszipcodeTableName)\n",
    "createTable(sfuszipcodeTableName, query)"
   ]
  },
  {
   "cell_type": "code",
   "execution_count": 29,
   "id": "213ab11d",
   "metadata": {},
   "outputs": [
    {
     "name": "stdout",
     "output_type": "stream",
     "text": [
      "Copied the contents of csv to the table purchases_data\n",
      "Copied Xml contents to temporary table\n",
      "Copied the contents of csv to the table supplier_case\n",
      "Copied the contents of csv to the table us_zip\n"
     ]
    }
   ],
   "source": [
    "# Upload contents of stage to the newly created table\n",
    "copyCsvContentsToTable(sfPurchasesTableName, sfCsvStageName, sfCsvFileFormatName)\n",
    "copyXmlContentsToTable(\"temporary_table\", sfXmlStageName, sfXmlFileFormatName)\n",
    "copyCsvContentsToTable_2(sfSupplierCaseTableName, sfPsqlStageName,sfCsvFileFormatName)\n",
    "copyCsvContentsToTable_3(sfuszipcodeTableName, sfUSzipStageName,sfCsvFileFormatName)"
   ]
  },
  {
   "cell_type": "code",
   "execution_count": 30,
   "id": "b69503aa",
   "metadata": {},
   "outputs": [
    {
     "name": "stdout",
     "output_type": "stream",
     "text": [
      "Created a new table with name supplier_invoices\n"
     ]
    }
   ],
   "source": [
    "query = r\"\"\"create table {0} as select \n",
    "            XMLGET(src_data, 'SupplierTransactionID'):\"$\"::integer as SupplierTransactionID,\n",
    "            XMLGET(src_data, 'SupplierID'):\"$\"::integer as SupplierID,\n",
    "            XMLGET(src_data, 'PurchaseOrderID'):\"$\" as PurchaseOrderID,          \n",
    "            XMLGET(src_data, 'SupplierInvoiceNumber'):\"$\" as SupplierInvoiceNumber,\n",
    "            XMLGET(src_data, 'TransactionDate'):\"$\" as TransactionDate,\n",
    "            XMLGET(src_data, 'AmountExcludingTax'):\"$\"::double as AmountExcludingTax,\n",
    "            XMLGET(src_data, 'TaxAmount'):\"$\" as TaxAmount,\n",
    "            XMLGET(src_data, 'TransactionAmount'):\"$\"::float as TransactionAmount\n",
    "            from {1};\"\"\".format(sfSupplierInvoicesTableName, \"temporary_table\")\n",
    "createTable(sfSupplierInvoicesTableName, query)"
   ]
  },
  {
   "cell_type": "code",
   "execution_count": 31,
   "id": "8d195a2e",
   "metadata": {},
   "outputs": [],
   "source": [
    "# Delete the temporary table\n",
    "query = \"Drop table {0}\".format(\"temporary_table\")\n",
    "executeAnyQuery(query)"
   ]
  },
  {
   "cell_type": "code",
   "execution_count": 32,
   "id": "c7895c63",
   "metadata": {},
   "outputs": [],
   "source": [
    "## Q2: \n",
    "query = \"CREATE or replace table {0} as SELECT purchaseorderid, sum(ReceivedOuters * ExpectedUnitPricePerOuter) AS POAmount FROM {1} GROUP BY purchaseorderid ORDER BY purchaseorderid\".format(\"POAmount_table\", sfPurchasesTableName)\n",
    "executeAnyQuery(query)"
   ]
  },
  {
   "cell_type": "code",
   "execution_count": 33,
   "id": "90b8e871",
   "metadata": {},
   "outputs": [],
   "source": [
    "## Q4 - join POAmount_table with supplier_invoices\n",
    "query = \"create or replace table {0} as select a.POAmount, b.* from {1} as a inner join {2} as b on a.purchaseorderid = b.PurchaseOrderID order by a.PurchaseOrderID;\".format(\"supplier_poamount_merged\", \"POAmount_table\", sfSupplierInvoicesTableName)\n",
    "executeAnyQuery(query)"
   ]
  },
  {
   "cell_type": "code",
   "execution_count": 34,
   "id": "056db506",
   "metadata": {},
   "outputs": [],
   "source": [
    "## Q5 create a materialized view\n",
    "query = \"create or replace materialized view purchase_orders_and_invoices as select purchaseorderid, (POAmount-AmountExcludingTax) as invoiced_vs_quoted  from supplier_poamount_merged\"\n",
    "executeAnyQuery(query)"
   ]
  },
  {
   "cell_type": "code",
   "execution_count": 35,
   "id": "c7f202ac",
   "metadata": {},
   "outputs": [],
   "source": [
    "## Q6\n",
    "import psycopg2\n",
    "\n",
    "conn = psycopg2.connect( host=\"127.0.0.1\", port=\"8765\",database=\"ETL_Project\", user=\"jovyan\", password=\"postgres\")\n",
    "cursor = conn.cursor()\n",
    "# Loading psql file to databse\n",
    "cursor.execute(open(\"./supplier_case.pgsql\", \"r\").read())\n",
    "# Exporting table to csv file\n",
    "with open(\"./supplier_case.csv\", \"w\") as file:\n",
    "    cursor.copy_expert(\"COPY (SELECT * from supplier_case) TO STDOUT WITH CSV DELIMITER ',' HEADER\", file)\n",
    "conn.commit()\n",
    "conn.close()"
   ]
  },
  {
   "cell_type": "code",
   "execution_count": 36,
   "id": "58577169",
   "metadata": {},
   "outputs": [],
   "source": [
    "## Q7-Part a & b\n",
    "\n",
    "#Extracting weather data from Environmental Database and pivoting to reflect stations\n",
    "query = \"\"\"\n",
    "create or replace table noaa_gsod\n",
    "cluster by (station_id, date)\n",
    "as (\n",
    "    select *\n",
    "    from (\n",
    "        select \"Stations\", \"Date\", \"Stations Latitude\", \"Stations Longitude\",\"Stations Name\", \"Country\", \"Indicator Name\", \"Value\"\n",
    "        from ENVIRONMENT_DATA_ATLAS.ENVIRONMENT.NOAACD2019R\n",
    "        where \"Date\">='2020-01-01'\n",
    "        and \"Measure\"='M1'\n",
    "        and \"Country\"='US'\n",
    "    )\n",
    "    pivot(max(\"Value\") for \"Indicator Name\" in ('Maximum temperature (Fahrenheit)','Mean dew point (Fahrenheit)','Minimum temperature (Fahrenheit)','Mean temperature (Fahrenheit)'))\n",
    "    as p(station_id, date, station_lat, station_long, name, country_fips, max, dew, min, mean_temp)\n",
    ");\"\"\"\n",
    "\n",
    "executeAnyQuery(query)"
   ]
  },
  {
   "cell_type": "code",
   "execution_count": 37,
   "id": "f5f502db",
   "metadata": {},
   "outputs": [],
   "source": [
    "#Combining zip codes and weather data\n",
    "query =\"\"\"\n",
    "create or replace table stations_city\n",
    "as (\n",
    "    select a.station_id, date, a.name, a.country_fips, a.max, a.dew, a.min, a.mean_temp, st_distance(st_makepoint(a.station_long, a.station_lat), st_makepoint(b.long, b.lat)) AS distance, b.zip\n",
    "    from noaa_gsod AS a\n",
    "    join ASSIGNMENT_DB.ASSIGNMENT_SCHEMA.us_zip AS b\n",
    "    on st_distance(st_makepoint(a.station_long, a.station_lat), st_makepoint(b.long, b.lat)) < 50000\n",
    "    LIMIT 1000\n",
    ");\"\"\"\n",
    "executeAnyQuery(query)"
   ]
  },
  {
   "cell_type": "code",
   "execution_count": 38,
   "id": "c8c91971",
   "metadata": {},
   "outputs": [],
   "source": [
    "#Combining supplier zip codes and weather data zip codes\n",
    "\n",
    "query =\"\"\"\n",
    "create or replace table supplier_zip_code_weather as\n",
    "(SELECT A.*,B.*\n",
    "FROM supplier_case AS A\n",
    "INNER JOIN stations_city AS B\n",
    "ON A.postalpostalcode = B.zip\n",
    "ORDER BY ZIP);\"\"\"\n",
    "executeAnyQuery(query)"
   ]
  },
  {
   "cell_type": "code",
   "execution_count": 39,
   "id": "44939605",
   "metadata": {},
   "outputs": [],
   "source": [
    "## Q8 -> Final Merged Database\n",
    "query = \"\"\"\n",
    "create or replace table combined_merged_table as\n",
    "(SELECT A.poamount, A.purchaseorderid, A.transactiondate, B.*\n",
    "FROM supplier_poamount_merged AS A\n",
    "INNER JOIN supplier_zip_code_weather AS B\n",
    "ON A.supplierid = B.supplierid);\"\"\"\n",
    "executeAnyQuery(query)"
   ]
  },
  {
   "cell_type": "code",
   "execution_count": null,
   "id": "bb73413d",
   "metadata": {},
   "outputs": [],
   "source": []
  }
 ],
 "metadata": {
  "kernelspec": {
   "display_name": "Python 3",
   "language": "python",
   "name": "python3"
  },
  "language_info": {
   "codemirror_mode": {
    "name": "ipython",
    "version": 3
   },
   "file_extension": ".py",
   "mimetype": "text/x-python",
   "name": "python",
   "nbconvert_exporter": "python",
   "pygments_lexer": "ipython3",
   "version": "3.8.5"
  }
 },
 "nbformat": 4,
 "nbformat_minor": 5
}
